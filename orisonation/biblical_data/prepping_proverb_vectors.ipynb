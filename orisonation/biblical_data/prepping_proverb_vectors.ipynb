{
 "cells": [
  {
   "cell_type": "markdown",
   "metadata": {},
   "source": [
    "Pre-processing Proverbs and determining now to match them to prayers."
   ]
  },
  {
   "cell_type": "code",
   "execution_count": 146,
   "metadata": {},
   "outputs": [],
   "source": [
    "with open(\"biblical_data/proverbs.txt\") as f:\n",
    "    proverbs = f.readlines()"
   ]
  },
  {
   "cell_type": "code",
   "execution_count": 147,
   "metadata": {},
   "outputs": [],
   "source": [
    "proverbs = [p.rstrip(\"\\n\").strip() for p in proverbs]"
   ]
  },
  {
   "cell_type": "code",
   "execution_count": 148,
   "metadata": {},
   "outputs": [],
   "source": [
    "proverbs_short = [p for p in proverbs if len(p)<=140]"
   ]
  },
  {
   "cell_type": "code",
   "execution_count": 149,
   "metadata": {},
   "outputs": [
    {
     "data": {
      "text/plain": [
       "851"
      ]
     },
     "execution_count": 149,
     "metadata": {},
     "output_type": "execute_result"
    }
   ],
   "source": [
    "len(proverbs_short)"
   ]
  },
  {
   "cell_type": "code",
   "execution_count": 150,
   "metadata": {},
   "outputs": [],
   "source": [
    "import itertools\n",
    "import re\n",
    "proverbs_long = [p for p in proverbs if len(p)>140]\n",
    "for p in proverbs_long:\n",
    "    frangibles = re.split(r\"[?!;:]\",p)\n",
    "    frangibles = [f.strip() for f in frangibles]\n",
    "    for f in frangibles:\n",
    "        if len(f)>30:\n",
    "            if f[0].isupper():\n",
    "                proverbs_short.append(f)\n",
    "    "
   ]
  },
  {
   "cell_type": "code",
   "execution_count": 151,
   "metadata": {},
   "outputs": [
    {
     "data": {
      "text/plain": [
       "1102"
      ]
     },
     "execution_count": 151,
     "metadata": {},
     "output_type": "execute_result"
    }
   ],
   "source": [
    "len(proverbs_short)"
   ]
  },
  {
   "cell_type": "code",
   "execution_count": 152,
   "metadata": {},
   "outputs": [],
   "source": [
    "proverbs = proverbs_short"
   ]
  },
  {
   "cell_type": "code",
   "execution_count": 153,
   "metadata": {},
   "outputs": [
    {
     "name": "stdout",
     "output_type": "stream",
     "text": [
      "****Loading sbert model\n",
      "****Loaded\n"
     ]
    }
   ],
   "source": [
    "print(\"****Loading sbert model\")\n",
    "from sentence_transformers import SentenceTransformer, util\n",
    "model = SentenceTransformer('distilbert-base-nli-stsb-mean-tokens')\n",
    "print(\"****Loaded\")\n",
    "import torch\n"
   ]
  },
  {
   "cell_type": "code",
   "execution_count": 154,
   "metadata": {},
   "outputs": [],
   "source": [
    "## embed\n",
    "proverbs_embedded = model.encode(proverbs_short, convert_to_tensor=True) ## set up for sbert"
   ]
  },
  {
   "cell_type": "code",
   "execution_count": 155,
   "metadata": {},
   "outputs": [
    {
     "data": {
      "text/plain": [
       "tensor([-1.0356e-01,  8.4312e-01,  4.1678e-01,  2.9132e-01,  2.1492e-01,\n",
       "        -2.3340e-01,  1.3825e-01, -1.0411e+00,  4.0200e-01, -3.9351e-01,\n",
       "         2.4300e-01,  9.3490e-01,  6.7175e-02,  7.9243e-01, -2.6569e-01,\n",
       "         4.7522e-02,  1.9867e+00, -1.1379e-01, -6.9688e-01, -5.5760e-01,\n",
       "        -5.2349e-01,  2.9936e-01,  2.1467e-01,  1.0238e+00,  7.8902e-02,\n",
       "         8.1300e-01, -7.0217e-02,  7.4062e-03,  3.2122e-01,  2.6714e-01,\n",
       "         6.4935e-01,  4.3660e-01,  7.1065e-01, -1.8607e-01,  3.1868e-01,\n",
       "        -7.5774e-03, -6.0237e-03,  3.5018e-01,  5.4521e-01, -6.4244e-02,\n",
       "        -4.6972e-01, -3.1875e-02,  1.2070e-01,  4.4207e-01,  5.0091e-01,\n",
       "        -5.0167e-01, -1.3289e-01,  5.0545e-01, -8.2512e-01, -1.2926e-01,\n",
       "        -6.4990e-01,  8.5707e-01, -1.3086e-02,  2.7571e-01,  2.1861e-01,\n",
       "        -1.0715e-01, -2.0489e-01,  2.2103e-01,  2.7359e-01, -1.0180e-01,\n",
       "         2.7444e-01,  3.9330e-01, -5.8393e-01, -4.3269e-01, -7.2968e-01,\n",
       "        -3.8730e-03, -4.1149e-01,  4.8001e-01,  5.3492e-01, -2.9241e-01,\n",
       "         1.1283e-01, -1.1688e-01, -5.0514e-01, -3.0192e-01,  3.4845e-01,\n",
       "        -1.0810e+00, -1.8365e-01, -9.6415e-01,  3.4111e-01, -9.9324e-01,\n",
       "        -5.9562e-01, -4.2104e-01,  2.7827e-01, -9.2005e-01,  8.1800e-04,\n",
       "         5.6345e-01,  1.0788e+00,  4.7066e-01, -2.2020e-01, -2.2153e-01,\n",
       "         2.1881e-01,  3.8441e-02,  1.1469e-01, -8.8473e-01, -7.2586e-01,\n",
       "        -4.0155e-01,  5.8114e-01, -1.9502e-01, -8.1412e-01, -1.2173e-04,\n",
       "         8.2717e-01,  2.5350e-01,  4.8059e-01,  3.6422e-01,  7.4310e-01,\n",
       "        -8.7374e-02,  4.6827e-01,  5.4139e-01, -1.1793e-01,  1.7406e-01,\n",
       "        -6.0452e-01,  1.6939e-01,  2.8722e-01, -5.0244e-01, -1.7483e-01,\n",
       "        -7.0406e-01, -7.0761e-01, -1.2385e-02,  6.1086e-01,  6.3486e-01,\n",
       "         8.8758e-01, -8.1447e-01, -5.4607e-01, -6.8640e-01, -5.6576e-01,\n",
       "        -5.0103e-02, -7.1231e-01,  3.3453e-02, -5.4510e-02, -7.5498e-02,\n",
       "         4.1605e-01,  8.3503e-01,  4.9053e-01, -3.7621e-02, -7.0518e-01,\n",
       "         1.1926e+00, -4.0155e-01, -7.0088e-01, -1.7236e-01, -3.8745e-02,\n",
       "        -8.5606e-01, -2.1758e-01, -4.6722e-02,  3.6875e-01, -3.3616e-02,\n",
       "        -3.3383e-01, -9.5898e-01,  4.3685e-01,  6.4111e-01, -3.0359e-01,\n",
       "        -7.0267e-02, -3.2691e-01, -7.4795e-01,  5.2944e-01,  8.9026e-02,\n",
       "         4.0181e-01,  6.9164e-01, -3.2234e-01, -7.6626e-01,  1.3189e-01,\n",
       "        -5.8838e-01, -1.1613e+00, -5.0956e-01, -3.7179e-01, -6.5795e-01,\n",
       "        -1.3311e+00,  4.5685e-01, -2.8572e-01, -3.1485e-01, -3.6929e-01,\n",
       "        -1.8608e-01, -3.1584e-01, -1.6653e-01, -8.9842e-01,  5.2390e-01,\n",
       "         6.5727e-03, -3.1011e-01,  5.7492e-01, -6.7892e-02,  1.4012e-01,\n",
       "        -8.7052e-02,  3.3396e-01, -2.5168e-01,  2.6791e-01, -6.0440e-01,\n",
       "        -9.5331e-02,  4.1304e-01, -3.0078e-01, -1.3360e-02,  7.7627e-02,\n",
       "        -9.6963e-01, -3.9698e-01,  3.7026e-02,  5.9982e-01,  1.3012e+00,\n",
       "        -4.1916e-01, -7.5846e-03,  6.9409e-01,  1.6410e-01, -3.7598e-03,\n",
       "        -5.2106e-01, -7.0261e-01, -6.1180e-01,  7.4257e-01,  3.0180e-01,\n",
       "        -1.0103e-01,  1.1962e-01, -1.7240e-02,  7.0836e-01, -7.2547e-01,\n",
       "         7.9044e-01, -5.3828e-01, -4.8352e-01, -2.1383e-01, -1.9189e-01,\n",
       "         6.3160e-01,  1.0285e-01, -7.8542e-01, -7.8660e-01,  2.8232e-01,\n",
       "         4.9949e-02, -1.2164e+00, -7.3078e-01, -9.0099e-02,  4.0633e-01,\n",
       "        -6.9343e-01, -7.9526e-01,  2.2909e-01, -1.3712e-01, -3.2897e-01,\n",
       "         2.9180e-01, -6.5627e-01,  7.5338e-02,  4.1389e-01, -2.7662e-01,\n",
       "        -4.9954e-01, -1.6773e-02, -5.4133e-01,  9.5904e-01, -5.4737e-01,\n",
       "         6.0489e-03,  1.9529e-01,  2.8016e-01,  1.9614e-01,  1.2505e+00,\n",
       "        -1.8321e-01, -8.9195e-01,  2.1372e-01, -5.0641e-01,  2.0710e-01,\n",
       "        -1.5475e+00, -3.2039e-01,  1.3503e-02,  1.0343e+00, -9.1895e-02,\n",
       "        -2.0143e-02,  6.1271e-02, -9.7379e-02, -1.7334e-01, -3.6870e-01,\n",
       "        -3.3213e-01,  4.6366e-01, -2.6628e-01, -4.4623e-01, -6.5152e-01,\n",
       "         6.3649e-01,  7.7294e-02, -9.5236e-01,  1.6371e-01,  1.9731e-01,\n",
       "         1.0362e-01, -1.3703e+00, -3.1866e-01,  9.6028e-01, -1.5674e-01,\n",
       "        -6.1084e-01,  5.8767e-01, -1.3727e-01,  1.0547e+00,  1.3471e-01,\n",
       "         5.5161e-01,  4.4036e-01,  3.1968e-02, -6.1417e-01, -4.3041e-01,\n",
       "        -6.3744e-02,  7.7724e-01,  5.6240e-01, -3.1434e-01,  3.1683e-02,\n",
       "         3.3787e-03,  8.8260e-01,  6.8451e-01,  6.5592e-01, -2.0394e-01,\n",
       "        -1.2843e-01, -4.5468e-02, -4.5546e-01,  8.8831e-01, -2.2377e-01,\n",
       "        -5.1659e-01,  9.3912e-02,  6.8407e-01,  4.3614e-01, -1.4648e-02,\n",
       "        -2.4953e-02,  4.7253e-01, -2.3352e-01, -1.4052e+00,  1.1144e-01,\n",
       "         3.1066e-01,  9.5285e-02,  1.5924e-01,  1.7402e-01,  5.2176e-02,\n",
       "        -2.3891e-01, -4.0898e-02, -4.5003e-02, -3.5478e-01,  5.2585e-01,\n",
       "         8.7160e-01,  2.0993e-01, -4.2340e-01,  1.2781e-01,  2.3492e-01,\n",
       "        -4.2949e-02, -4.5272e-02,  8.7124e-01, -8.4551e-02,  9.3540e-02,\n",
       "        -1.8498e-01,  1.1946e-01, -7.7806e-02,  4.4368e-01, -2.3483e-01,\n",
       "        -1.1621e-01, -2.7568e-01,  1.9297e-01, -1.1253e-01, -6.6354e-01,\n",
       "         7.8436e-01, -2.9899e-01, -7.4072e-01, -6.5460e-01,  3.0751e-01,\n",
       "         1.7236e-01, -1.1332e+00,  7.2339e-01,  3.1740e-01,  5.6034e-02,\n",
       "         9.2713e-01,  8.1238e-01,  7.2650e-01, -4.1536e-01, -2.4221e-01,\n",
       "         6.6784e-01,  9.8943e-01, -2.1861e-01,  6.8475e-01, -6.5284e-01,\n",
       "        -1.1185e-01, -1.7234e-01,  3.5911e-01,  1.2305e-01,  6.6277e-01,\n",
       "         4.6934e-01,  4.1512e-01, -5.6483e-01, -7.6414e-01,  6.8868e-01,\n",
       "        -4.6079e-01, -1.8418e-01,  1.5866e-02, -2.1903e-01,  1.4265e+00,\n",
       "        -4.5014e-01,  2.4172e-01,  7.5826e-02, -1.1538e+00, -4.1757e-01,\n",
       "         1.3607e-01, -1.7456e-01,  2.9459e-01, -2.5625e-01,  2.7665e-02,\n",
       "        -9.1971e-01, -5.3415e-01, -5.5265e-01, -6.3148e-01,  5.4087e-01,\n",
       "        -1.3086e-01, -3.5975e-01,  5.8145e-02, -8.6872e-01, -7.5050e-01,\n",
       "         1.6112e-02, -3.1683e-01,  6.7046e-01,  9.2861e-01, -1.1981e-01,\n",
       "         1.1362e-01,  3.2183e-02,  4.3831e-01,  6.9988e-01,  9.1954e-01,\n",
       "         1.4341e+00,  6.6472e-01,  6.4254e-01,  1.1851e+00, -2.8644e-01,\n",
       "         2.5768e-01, -4.2007e-01, -8.8654e-01,  3.1181e-02, -2.8847e-01,\n",
       "         5.1616e-01,  9.0520e-02, -7.7068e-01, -3.0550e-01,  6.5095e-02,\n",
       "        -4.9531e-01, -7.8394e-02, -3.8100e-02,  7.1047e-01,  3.5761e-01,\n",
       "         6.1806e-01, -8.2521e-01, -3.3385e-01, -8.3242e-01, -3.9133e-01,\n",
       "        -1.1120e+00, -8.9302e-01, -9.7657e-02,  3.0382e-01, -7.8951e-01,\n",
       "        -5.2996e-01,  9.3773e-01, -3.1690e-01,  4.8812e-01,  1.8041e-01,\n",
       "        -1.6604e-01,  4.3092e-01, -1.1534e-01, -2.4140e-01, -4.7366e-02,\n",
       "        -4.6966e-01,  9.0242e-01,  2.7187e-01,  2.3726e-01,  5.6724e-01,\n",
       "         9.3773e-02, -2.6909e-01,  6.7044e-01, -1.1417e+00,  4.0344e-01,\n",
       "        -3.5089e-01, -1.3291e-01, -1.4649e-01, -7.2669e-02, -2.7123e-01,\n",
       "        -2.1947e-01,  9.7923e-01, -5.7319e-01,  3.6377e-01, -1.1067e+00,\n",
       "         1.3978e-01,  1.7673e-01, -5.0529e-01, -2.1833e-01, -1.0235e-02,\n",
       "        -1.1588e+00, -2.4858e-01,  6.2986e-01,  3.3378e-01, -2.2225e+00,\n",
       "        -1.2409e+00, -5.7149e-01, -1.0764e-01,  6.2148e-01, -7.8862e-03,\n",
       "        -4.5994e-01,  4.9601e-01,  2.4534e-01, -2.9925e-01, -5.7227e-02,\n",
       "         1.6323e-01, -2.8784e-01,  1.3542e-01, -7.3762e-01, -4.0886e-01,\n",
       "        -6.7959e-02,  2.7427e-01, -5.2309e-01, -1.1500e-01, -3.9113e-01,\n",
       "        -3.5045e-01,  1.6043e-01,  1.4024e-01, -2.3019e-01, -2.9365e-01,\n",
       "         7.6353e-01,  2.0200e-02, -2.7480e-01,  5.3843e-01, -1.1657e-01,\n",
       "        -1.6115e-01,  4.3010e-01,  4.8182e-01, -9.0947e-02,  5.0523e-01,\n",
       "        -9.8652e-02, -9.1632e-01, -2.5063e-02, -6.3971e-01, -2.5861e-01,\n",
       "        -3.2782e-01, -4.2766e-01,  5.8866e-01, -6.9544e-01,  8.3889e-01,\n",
       "        -6.7485e-01,  2.5503e-01,  5.6392e-01, -7.3844e-01, -6.1884e-02,\n",
       "         4.8380e-02, -5.3647e-01, -5.8783e-01, -2.3291e-01,  6.3763e-02,\n",
       "        -2.1365e-01, -1.4218e-01, -2.1775e-02,  7.8758e-01,  6.2590e-01,\n",
       "         2.4002e-01,  8.3238e-01, -3.9204e-01,  4.6730e-01,  5.1864e-01,\n",
       "         3.7344e-01, -5.4662e-01,  7.9728e-01,  2.1219e-01,  1.0913e+00,\n",
       "         1.4695e+00,  8.5397e-01, -2.0326e-01, -8.3656e-01,  1.4862e-01,\n",
       "         8.5359e-02,  4.6696e-01,  9.7744e-01,  4.7026e-01, -4.0359e-02,\n",
       "        -1.1209e+00,  9.6180e-01,  1.4893e-01,  2.1242e-01,  3.4427e-01,\n",
       "        -5.0545e-01,  1.5751e-01,  5.5465e-01, -7.5588e-01,  6.5608e-01,\n",
       "        -7.5859e-01, -4.3466e-01, -1.8911e-01,  3.3341e-01,  1.5922e-01,\n",
       "         1.4965e-01,  1.0957e+00, -8.6060e-01, -4.4713e-01, -2.6561e-01,\n",
       "        -2.5204e-01, -2.3323e-01, -2.5849e-01,  5.0792e-01, -4.2485e-01,\n",
       "        -6.4069e-01,  2.4808e-01,  5.3816e-01,  6.4297e-02,  2.8930e-01,\n",
       "        -4.0492e-01, -8.1639e-01,  3.6948e-02, -9.4766e-02, -8.6351e-02,\n",
       "        -1.0158e+00, -1.5281e-01, -1.9201e-01, -1.8432e-01,  7.7032e-01,\n",
       "        -9.3798e-01, -2.8237e-01,  1.3796e-02,  3.2370e-01, -2.2149e-01,\n",
       "         5.7397e-01, -7.3906e-01,  3.6688e-01, -1.6394e-01, -4.3929e-02,\n",
       "        -5.5122e-01,  6.5976e-01, -3.2061e-01,  1.9333e-01, -2.6857e-01,\n",
       "         5.6185e-01,  2.1975e-01,  5.9602e-01, -5.0691e-01, -6.3357e-01,\n",
       "         9.3682e-02, -3.9506e-01, -1.3980e+00,  1.8091e-01, -8.2461e-01,\n",
       "         2.1538e-01,  1.1642e-01, -4.6683e-01, -5.2792e-01,  5.8228e-01,\n",
       "         2.9501e-02, -4.2851e-01, -1.4474e-01,  1.0788e-01, -1.2262e+00,\n",
       "         1.8335e-01,  1.1154e-01,  2.1273e-01,  1.0019e+00, -1.1423e+00,\n",
       "         5.5437e-02,  2.0588e-01,  6.5967e-01, -1.6031e-01, -9.0010e-01,\n",
       "        -4.7968e-01,  4.6243e-01,  2.6928e-01,  2.0249e-01,  8.8639e-01,\n",
       "        -8.9026e-01,  8.0486e-01,  1.7870e-02,  2.7916e-01,  4.5188e-01,\n",
       "         2.4873e-02,  5.6854e-01, -3.7602e-01,  3.8378e-01, -2.0691e-02,\n",
       "         1.2666e+00, -2.1272e-01, -3.9476e-01, -1.3135e-01, -3.5081e-01,\n",
       "         1.2453e-01,  2.4911e-01, -7.5983e-01,  6.4558e-01,  7.2206e-01,\n",
       "         4.4857e-01,  8.2804e-01,  3.1873e-01, -1.0593e+00,  5.6816e-01,\n",
       "        -8.2952e-01, -6.8066e-01, -1.3077e-01,  9.8053e-01,  3.4214e-01,\n",
       "        -4.0471e-01,  5.0469e-01,  6.6227e-01, -5.8877e-01,  5.6939e-02,\n",
       "        -4.6834e-02, -4.7173e-01,  5.7497e-02,  7.5733e-01,  2.7536e-01,\n",
       "        -1.7241e-02, -1.4814e-01,  7.1442e-01,  2.7911e-01, -4.3549e-01,\n",
       "         5.6547e-01, -5.4131e-02, -6.8769e-01,  4.7799e-01, -3.7418e-01,\n",
       "        -5.3992e-01, -7.1055e-01, -6.9968e-01, -1.2311e+00,  8.0987e-01,\n",
       "         6.4377e-02, -4.4128e-01, -1.0398e-01,  3.0009e-01, -6.5902e-02,\n",
       "        -1.7902e-01, -4.4783e-01, -1.7655e-01, -1.0931e+00,  1.6580e-02,\n",
       "        -8.0150e-02, -3.1100e-01, -8.2652e-01,  2.8111e-01,  6.2110e-01,\n",
       "         7.4470e-01, -5.8168e-01, -5.8131e-01, -1.0173e-01,  1.2344e-02,\n",
       "        -1.3895e-01, -1.0466e-01, -9.5702e-02, -8.2022e-02, -4.0721e-01,\n",
       "         4.2934e-01,  2.0816e-01,  2.6650e-01,  2.9037e-01,  3.0009e-02,\n",
       "        -4.4658e-01, -1.1887e-01, -2.0976e-01,  5.7316e-01,  2.8702e-01,\n",
       "         3.8320e-01, -1.1077e+00,  4.9713e-01, -2.2695e-01, -3.6693e-01,\n",
       "        -2.1684e-01,  7.1287e-01,  1.0401e-01, -6.8771e-01,  6.2266e-01,\n",
       "        -1.5905e-01,  1.9693e-01, -1.1514e-01, -1.9681e-01, -4.4786e-02,\n",
       "        -9.3818e-01,  1.2170e+00,  6.5754e-01,  3.2729e-01, -1.3740e-01,\n",
       "        -2.6537e-01,  6.8756e-01,  6.8452e-02, -3.5624e-01, -2.9151e-01,\n",
       "        -3.4239e-01, -8.1122e-01, -2.7930e-01,  2.8276e-01,  6.2995e-01,\n",
       "         7.8912e-01,  5.3090e-01,  1.4924e-01])"
      ]
     },
     "execution_count": 155,
     "metadata": {},
     "output_type": "execute_result"
    }
   ],
   "source": [
    "proverbs_embedded[0]"
   ]
  },
  {
   "cell_type": "code",
   "execution_count": 156,
   "metadata": {},
   "outputs": [],
   "source": [
    "torch.save(proverbs_embedded,\"proverbs_embedded.pt\")\n",
    "proverbs_embedded = torch.load(\"proverbs_embedded.pt\")"
   ]
  },
  {
   "cell_type": "code",
   "execution_count": 157,
   "metadata": {},
   "outputs": [],
   "source": [
    "import json\n",
    "with open(\"proverbs_paired_to_tensors.json\",\"w\") as f:\n",
    "    json.dump(proverbs,f)\n",
    "    \n",
    "with open(\"proverbs_paired_to_tensors.json\",\"r\") as f:\n",
    "    proverbs = json.load(f)"
   ]
  },
  {
   "cell_type": "code",
   "execution_count": 158,
   "metadata": {},
   "outputs": [],
   "source": [
    "import random\n",
    "\n",
    "def get_close_proverb_sbert(prayer):\n",
    "    \"\"\"\n",
    "    calculates the most similar need from my custom needs using sent2vec\n",
    "    returns dict with need and similarity score\n",
    "    \"\"\"\n",
    "    query_embedding = model.encode(prayer, convert_to_tensor=True)\n",
    "    #return query_embedding\n",
    "    cos_scores = util.pytorch_cos_sim(query_embedding, proverbs_embedded)[0]\n",
    "    cos_scores = cos_scores.cpu()\n",
    "    score,top_match_indx = torch.topk(cos_scores, k=20)\n",
    "    matching_proverbs = [proverbs[i] for i in top_match_indx]\n",
    "    print(matching_proverbs)\n",
    "    while True:\n",
    "        if random.choice([False,False,False,False,True]):\n",
    "            return matching_proverbs[0]\n",
    "        else:\n",
    "            last = matching_proverbs.pop(0)\n",
    "            matching_proverbs.append(last)"
   ]
  },
  {
   "cell_type": "code",
   "execution_count": 159,
   "metadata": {},
   "outputs": [
    {
     "name": "stdout",
     "output_type": "stream",
     "text": [
      "['When thou liest down, thou shalt not be afraid: yea, thou shalt lie down, and thy sleep shall be sweet.', 'Yet a little sleep, a little slumber, a little folding of the hands to sleep', 'Yet a little sleep, a little slumber, a little folding of the hands to sleep', 'Come, let us take our fill of love until the morning: let us solace ourselves with loves.', 'Correct thy son, and he shall give thee rest; yea, he shall give delight unto thy soul.', 'So she caught him, and kissed him, and with an impudent face said unto him, I have peace offerings with me; this day have I payed my vows.', 'My son, eat thou honey, because it is good', 'He that gathereth in summer is a wise son: but he that sleepeth in harvest is a son that causeth shame.', 'Forsake her not, and she shall preserve thee: love her, and she shall keep thee.', 'Go thy way, eat thy bread with joy, and drink thy wine with a merry heart; for God now accepteth thy works.', 'He that loveth pureness of heart, for the grace of his lips the king shall be his friend.', 'For whom the LORD loveth he correcteth', 'Better is a dinner of herbs where love is, than a stalled ox and hatred therewith.', 'He that getteth wisdom loveth his own soul: he that keepeth understanding shall find good.', 'Give her of the fruit of her hands; and let her own works praise her in the gates.', 'For it is a pleasant thing if thou keep them within thee; they shall withal be fitted in thy lips.', 'Slothfulness casteth into a deep sleep; and an idle soul shall suffer hunger.', 'How long wilt thou sleep, O sluggard? when wilt thou arise out of thy sleep?', 'Whoso keepeth the fig tree shall eat the fruit thereof: so he that waiteth on his master shall be honoured.', 'He loveth transgression that loveth strife: and he that exalteth his gate seeketh destruction.']\n"
     ]
    },
    {
     "data": {
      "text/plain": [
       "'So she caught him, and kissed him, and with an impudent face said unto him, I have peace offerings with me; this day have I payed my vows.'"
      ]
     },
     "execution_count": 159,
     "metadata": {},
     "output_type": "execute_result"
    }
   ],
   "source": [
    "get_close_proverb_sbert(\"May you sleep in the garden of love.\")"
   ]
  }
 ],
 "metadata": {
  "kernelspec": {
   "display_name": "Python 3",
   "language": "python",
   "name": "python3"
  },
  "language_info": {
   "codemirror_mode": {
    "name": "ipython",
    "version": 3
   },
   "file_extension": ".py",
   "mimetype": "text/x-python",
   "name": "python",
   "nbconvert_exporter": "python",
   "pygments_lexer": "ipython3",
   "version": "3.8.3"
  }
 },
 "nbformat": 4,
 "nbformat_minor": 4
}
