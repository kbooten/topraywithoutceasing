{
 "cells": [
  {
   "cell_type": "markdown",
   "metadata": {},
   "source": [
    "# 📊 Prayer Writing Assistant\n",
    "\n",
    "\n",
    "I use this notebook when I am writing prayers.  Here I analyze a corpus of \"special intentions\" (statements of need, from Twitter) target common/paradigmatic needs so that I can compose \"high-impact\" prayers that increase total coverage.\n",
    "- total \"coverage\" of my prayers (how many special intentions are within a certain minimum semantic distance of its nearest prayers that I have written).\n",
    "- cluster special intentions to target frequently-occurring ones\n",
    "- looking at frequent token sequences in special attentions, also to target frequently-occurring ones"
   ]
  },
  {
   "cell_type": "markdown",
   "metadata": {},
   "source": [
    "***"
   ]
  },
  {
   "cell_type": "code",
   "execution_count": 1,
   "metadata": {},
   "outputs": [
    {
     "name": "stdout",
     "output_type": "stream",
     "text": [
      "****Loading sbert model\n",
      "****Loaded\n",
      "****Loading word2vec model: shrunkenvectors_200000.bin\n",
      "****Loaded\n"
     ]
    }
   ],
   "source": [
    "import pray"
   ]
  },
  {
   "cell_type": "code",
   "execution_count": 2,
   "metadata": {},
   "outputs": [
    {
     "data": {
      "text/plain": [
       "{'need': 'to get some food', 'score': 0.5887243747711182}"
      ]
     },
     "execution_count": 2,
     "metadata": {},
     "output_type": "execute_result"
    }
   ],
   "source": [
    "pray.get_closest_match_sbert(\"I need some bread.\")"
   ]
  },
  {
   "cell_type": "code",
   "execution_count": 3,
   "metadata": {},
   "outputs": [
    {
     "data": {
      "text/plain": [
       "{'need': 'a hug', 'score': 0.9902426600456238}"
      ]
     },
     "execution_count": 3,
     "metadata": {},
     "output_type": "execute_result"
    }
   ],
   "source": [
    "pray.get_closest_match_sbert(\"I need a hug.\")"
   ]
  },
  {
   "cell_type": "markdown",
   "metadata": {},
   "source": [
    "## Special Intentions\n"
   ]
  },
  {
   "cell_type": "code",
   "execution_count": 4,
   "metadata": {},
   "outputs": [],
   "source": [
    "special_intention_file = \"special_intentions_large.json\""
   ]
  },
  {
   "cell_type": "code",
   "execution_count": 5,
   "metadata": {},
   "outputs": [
    {
     "data": {
      "text/plain": [
       "'I need a hat'"
      ]
     },
     "execution_count": 5,
     "metadata": {},
     "output_type": "execute_result"
    }
   ],
   "source": [
    "pray.homogenize(\"i just need a hat\")"
   ]
  },
  {
   "cell_type": "code",
   "execution_count": 6,
   "metadata": {},
   "outputs": [
    {
     "data": {
      "text/plain": [
       "['I need you',\n",
       " 'I need to quit playing and get to on top of this lol it could really be something',\n",
       " 'I need to cry for three good days.']"
      ]
     },
     "execution_count": 6,
     "metadata": {},
     "output_type": "execute_result"
    }
   ],
   "source": [
    "import json\n",
    "with open(special_intention_file,'r') as f:\n",
    "    special_intentions = json.load(f)\n",
    "    \n",
    "if type(special_intentions[0])==list:\n",
    "    special_intentions = [si for userid, si in special_intentions]\n",
    "\n",
    "special_intentions_for_processing = [pray.remove_i_need(si).lower() for si in special_intentions]\n",
    "special_intentions = [pray.homogenize(si) for si in special_intentions]\n",
    "special_intentions = [si for si in special_intentions if len(si)>0]\n",
    "special_intentions[:3]"
   ]
  },
  {
   "cell_type": "code",
   "execution_count": 7,
   "metadata": {},
   "outputs": [
    {
     "data": {
      "text/plain": [
       "['you',\n",
       " 'to quit playing and get to on top of this lol it could really be something',\n",
       " 'to cry for three good days.']"
      ]
     },
     "execution_count": 7,
     "metadata": {},
     "output_type": "execute_result"
    }
   ],
   "source": [
    "special_intentions_for_processing[:3]"
   ]
  },
  {
   "cell_type": "code",
   "execution_count": 8,
   "metadata": {},
   "outputs": [
    {
     "data": {
      "text/plain": [
       "6886"
      ]
     },
     "execution_count": 8,
     "metadata": {},
     "output_type": "execute_result"
    }
   ],
   "source": [
    "import random\n",
    "random.seed(1)\n",
    "\n",
    "random.shuffle(special_intentions)\n",
    "len(special_intentions)"
   ]
  },
  {
   "cell_type": "code",
   "execution_count": 9,
   "metadata": {},
   "outputs": [
    {
     "data": {
      "text/plain": [
       "['I need my own spa, massage wud b luvvv',\n",
       " 'I need friends fuuuuuuuckkkkkkkkkk',\n",
       " 'I need to watch “crooklyn”',\n",
       " 'I need to deep dive into the Saturn in Aquarius bc things been quite different for me this week.',\n",
       " 'I need to find me a good pair of gloves!',\n",
       " 'I need y’all to play temptation by Santana it is sending me with the pop smoke vibe fr 😂😂😭😭😭',\n",
       " 'I need a mid-tempo playlist for nights like this.',\n",
       " 'I need to focus on @FocusFactory1  more.',\n",
       " 'I need a girl who into cars like me',\n",
       " 'I need a drink or 15']"
      ]
     },
     "execution_count": 9,
     "metadata": {},
     "output_type": "execute_result"
    }
   ],
   "source": [
    "random.sample(special_intentions,10)"
   ]
  },
  {
   "cell_type": "markdown",
   "metadata": {},
   "source": [
    "## Analyze Success of Current Patterns"
   ]
  },
  {
   "cell_type": "code",
   "execution_count": 10,
   "metadata": {},
   "outputs": [
    {
     "data": {
      "text/plain": [
       "{'need': 'a friend',\n",
       " 'score': 0.9883623719215393,\n",
       " 'banned': False,\n",
       " 'prayers': {0: 'May you find a pure bondsman<br>behold---this bondsman pure as a frankincense',\n",
       "  1: 'Yea, for you are leprous of bidding to yourself',\n",
       "  2: 'May it be so, though it is difficult to give bondsmen<br>as the princes gave bullocks',\n",
       "  3: 'You go to the jubile wearing your smile and woolen<br>as your servant went no whither',\n",
       "  4: 'Who will speak your name and visit your father?<br>as whosoever shall speak a word',\n",
       "  5: 'May you not become terrible before them, filling them with lamentation<br>this lamentation so great',\n",
       "  6: 'Await the weak companionship of the friend<br>this friend so familiar',\n",
       "  7: ',a bondsman to call bondsman<br> call In that day. (Selah.)'},\n",
       " 'template': {0: 'May you find a {JJ.true} {NN.friend}',\n",
       "  1: 'Yea, for you are {JJ.sick.tired} of {VBG.talking} to yourself',\n",
       "  2: 'May it be so, though it is {JJ.difficult} to {VB.make} {NNS.friends}',\n",
       "  3: 'You go to the {NN.city.party.bar} wearing your {NN.smile} and {JJ.clothes}',\n",
       "  4: 'Who will speak your {NN.name} and visit your {NN.house.mother.father.party}?',\n",
       "  5: 'May you not become {JJ.strange} before them, filling them with {NN.disgust}',\n",
       "  6: 'Await the {JJ.soft} {NN.companionship} of the {NN.tribe.friends.colleagues}',\n",
       "  7: ',a {NN.friend} to call {NN.friend}'}}"
      ]
     },
     "execution_count": 10,
     "metadata": {},
     "output_type": "execute_result"
    }
   ],
   "source": [
    "pray.pray(\"I need a friend.\")"
   ]
  },
  {
   "cell_type": "code",
   "execution_count": 11,
   "metadata": {},
   "outputs": [
    {
     "name": "stdout",
     "output_type": "stream",
     "text": [
      "CPU times: user 1min 29s, sys: 1.22 s, total: 1min 31s\n",
      "Wall time: 1min 32s\n"
     ]
    }
   ],
   "source": [
    "%%time\n",
    "scores_for_all = [pray.pray(s)['score'] for s in special_intentions[:300]]"
   ]
  },
  {
   "cell_type": "markdown",
   "metadata": {},
   "source": [
    "`Threshold` (below) should be the same as value of `threshold` argument in `pray_with_simplification` in `pray.py`."
   ]
  },
  {
   "cell_type": "code",
   "execution_count": 12,
   "metadata": {},
   "outputs": [],
   "source": [
    "threshold = .7\n",
    "high_enough_scores = [s for s in scores_for_all if s>=threshold]"
   ]
  },
  {
   "cell_type": "markdown",
   "metadata": {},
   "source": [
    "Percentage above threshold. "
   ]
  },
  {
   "cell_type": "code",
   "execution_count": 13,
   "metadata": {},
   "outputs": [
    {
     "data": {
      "text/plain": [
       "0.14666666666666667"
      ]
     },
     "execution_count": 13,
     "metadata": {},
     "output_type": "execute_result"
    }
   ],
   "source": [
    "len(high_enough_scores)/len(scores_for_all)"
   ]
  },
  {
   "cell_type": "markdown",
   "metadata": {},
   "source": [
    "Average."
   ]
  },
  {
   "cell_type": "code",
   "execution_count": 14,
   "metadata": {},
   "outputs": [
    {
     "data": {
      "text/plain": [
       "0.5216755964358648"
      ]
     },
     "execution_count": 14,
     "metadata": {},
     "output_type": "execute_result"
    }
   ],
   "source": [
    "sum(scores_for_all)/len(scores_for_all)"
   ]
  },
  {
   "cell_type": "markdown",
   "metadata": {},
   "source": [
    "## Order According to Similarity"
   ]
  },
  {
   "cell_type": "code",
   "execution_count": 15,
   "metadata": {},
   "outputs": [],
   "source": [
    "corpus = special_intentions[:1000]\n",
    "distance_threshold = 2"
   ]
  },
  {
   "cell_type": "code",
   "execution_count": 16,
   "metadata": {},
   "outputs": [],
   "source": [
    "def sample_and_judge_cluster(cluster,n=7):\n",
    "    if len(cluster)>n:\n",
    "        cluster = random.sample(cluster,n)\n",
    "    is_it_valid = [True if pray.pray(si)['score']>=threshold else False for si in cluster]\n",
    "    symbols = [\"✅\" if evaluation==True else \"❌\" for evaluation in is_it_valid]\n",
    "    return [\"%s:%s\" % (sym,si) for sym,si in zip(symbols,cluster)]\n",
    "        "
   ]
  },
  {
   "cell_type": "code",
   "execution_count": 17,
   "metadata": {},
   "outputs": [],
   "source": [
    "import math"
   ]
  },
  {
   "cell_type": "code",
   "execution_count": 18,
   "metadata": {
    "scrolled": false
   },
   "outputs": [
    {
     "name": "stdout",
     "output_type": "stream",
     "text": [
      "Cluster  17\n",
      "⬛⬛⬛⬛⬛⬛⬛⬛⬛⬛\n",
      "❌:I need a nap atp\n",
      "❌:I need anything about my acting job\n",
      "❌:I need moonsun things on lift right when decalcomanie era\n",
      "❌:I need to download endgame\n",
      "❌:I need Keenan Allen to score to complete this parlay\n",
      "❌:I need a serotonin boost NOW\n",
      "❌:I need to give samurai champloo a rewatch\n",
      "\n",
      "Cluster  56\n",
      "⬛⬛⬛⬛⬛\n",
      "❌:I need a massage\n",
      "❌:I need a massage!\n",
      "❌:I need a full body massage 🥺\n",
      "❌:I need a massage\n",
      "❌:I need a massage and a nap\n",
      "❌:I need a deep back massage and a nice cry\n",
      "❌:I need a full body massage ☹️\n",
      "\n",
      "Cluster  16\n",
      "⬛⬛⬛⬛⬛⬛⬛\n",
      "❌:I need like 10 ginger ales😭😭😭\n",
      "❌:I need that Nocta puffer jacket frl\n",
      "❌:I need a hassle free bip.\n",
      "❌:I need a chemical peel\n",
      "❌:I need some Tylenol 💊\n",
      "❌:I need a quick lick 😭\n",
      "❌:I need the nocta sweatsuit\n",
      "\n",
      "Cluster  13\n",
      "⬛⬛⬛⬛⬛⬛⬛⬛⬛⬛⬛⬛\n",
      "❌:I need a blowjob🤤💦\n",
      "❌:I need to take a step back and reevaluate again 😶\n",
      "❌:I need attention 🥺\n",
      "❌:I need them and go\n",
      "❌:I need to double up my effort to learn hangul😂\n",
      "❌:I need to get back into Animal Crossing man😓\n",
      "❌:I need someone who understands me!😔\n",
      "\n",
      "Cluster  52\n",
      "⬛⬛⬛⬛⬛⬛\n",
      "❌:I need to pick a day for Vision boards for me and my girls 🧐\n",
      "❌:I need to make plans for Faye while I’m playing\n",
      "❌:I need to teach myself how to braid 😩 imma start watching tutorials lol\n",
      "❌:I need some help from auk, ack, gust &amp; aum students/graduates\n",
      "❌:I need queenzcooking’s skills pls\n",
      "❌:I need the contacts of a bait girl in Cambridge ASAP‼️\n",
      "❌:I need some alphalete in my life\n",
      "\n",
      "Cluster  33\n",
      "⬛⬛⬛\n",
      "❌:I need 3 more peoples help 🥺🥺\n",
      "❌:I need A SEASON 3 OF GREAT PRETENDERRRRR\n",
      "❌:I need a 3 in them 13s😒\n",
      "❌:I need about 3 shots rn @Marlee_Rayy 😂\n",
      "❌:I need 4 more pages\n",
      "❌:I need like $3.5 million right quick 🤷🏽‍♂️\n",
      "❌:I need the Raiders to win by 3 for very specific reasons.\n",
      "\n",
      "Cluster  42\n",
      "⬛⬛⬛⬛⬛\n",
      "❌:I need to clean my mirror 🆘\n",
      "❌:I need to clean my car 😭\n",
      "✅:I need to put some art up in my house\n",
      "❌:I need to clean my car 😩\n",
      "✅:I need to clean my room up and my car out\n",
      "❌:I need to get my windows tinted on my car\n",
      "❌:I need to clean my car inside &amp; out.\n",
      "\n",
      "Cluster  11\n",
      "⬛⬛⬛⬛⬛⬛⬛⬛⬛⬛\n",
      "❌:I need a nice wig\n",
      "❌:I need a dime to Waller for the game winner 🤣🙏🏾\n",
      "❌:I need a flipping vaccine\n",
      "❌:I need a lil nose beanie\n",
      "❌:I need somebody to looooove\n",
      "❌:I need to get my eyelashes done 😂\n",
      "❌:I need help lmaoo\n",
      "\n",
      "Cluster  15\n",
      "⬛⬛⬛⬛⬛⬛⬛⬛\n",
      "✅:I need you\n",
      "✅:I need you\n",
      "❌:I need somebody that’s attentive.\n",
      "❌:I need some help 🙁\n",
      "❌:I need your support\n",
      "❌:I need some\n",
      "✅:I need you, you need me\n",
      "\n",
      "Cluster  7\n",
      "⬛⬛⬛⬛⬛⬛⬛⬛\n",
      "❌:I need financial help this holiday season my cashapp is $mmariahhleee anything helps🥺\n",
      "❌:I need $100 🥺🙏\n",
      "❌:I need more back pocket-front pocket sweats 😭😭😭 top tier\n",
      "❌:I need to learn how to save money 🤣\n",
      "❌:I need my money to transferrrrrrrrrrrrrrrrrrrrrrr\n",
      "❌:I need to see this new money movie 😂😂😂 falz is a clown 😂😂😂\n",
      "❌:I need to be a chipndale and make that stripper money\n",
      "\n",
      "Cluster  35\n",
      "⬛⬛⬛⬛⬛⬛\n",
      "❌:I need to be better.\n",
      "❌:I need to change my attitude\n",
      "❌:I need Notre Dame to do better\n",
      "❌:I need multiple vehicles\n",
      "❌:I need more of this content\n",
      "❌:I need to do better\n",
      "❌:I need more green in my life.\n",
      "\n",
      "Cluster  24\n",
      "⬛⬛⬛⬛\n",
      "❌:I need a back rub.\n",
      "❌:I need ice cream.\n",
      "❌:I need someone to be rubbing my back while I'm sleeping\n",
      "❌:I need someone’s son to make my legs shake\n",
      "❌:I need someone to aggressively massage my back\n",
      "❌:I need to go get a wax\n",
      "❌:I need to shake this cold 🥴\n",
      "\n",
      "Cluster  30\n",
      "⬛⬛⬛⬛⬛⬛⬛⬛⬛\n",
      "✅:I need a nap\n",
      "✅:I need a little nap\n",
      "✅:I need a damn nap.\n",
      "✅:I need a nap\n",
      "✅:I need a nap and I’m not feeling it today\n",
      "✅:I need a nap forreal\n",
      "✅:I need to sleep man\n",
      "\n",
      "Cluster  19\n",
      "⬛⬛⬛⬛⬛⬛\n",
      "❌:I need a seokjinnie friend :(\n",
      "❌:I need friends that can photograph 💫brown skin💫\n",
      "❌:I need friends, nobody interacts with me 💔\n",
      "❌:I need more pictures with my friends\n",
      "❌:I need some good vibes and good friends.. then my life goes on\n",
      "❌:I need more friends who have diverse taste in movies, and TV shows like me\n",
      "❌:I need to follow more girl group stans where are y'all\n",
      "\n",
      "Cluster  47\n",
      "⬛⬛⬛⬛\n",
      "❌:I need a new job\n",
      "❌:I need to see new art\n",
      "❌:I need something new\n",
      "❌:I need a New Years outfit\n",
      "❌:I need a new carrd\n",
      "❌:I need new everything.\n",
      "❌:I need a new plant\n",
      "\n",
      "Cluster  8\n",
      "⬛⬛⬛⬛⬛⬛⬛⬛⬛⬛⬛\n",
      "❌:I need to get up\n",
      "❌:I need a selfcation asap!\n",
      "❌:I need somebody to come outside with me\n",
      "❌:I need to have a kid already at this point.\n",
      "❌:I need to get over it already, its not a big deal\n",
      "❌:I need this live today ngl\n",
      "❌:I need to run errands.\n",
      "\n",
      "Cluster  32\n",
      "⬛⬛⬛\n",
      "✅:I need a vacation\n",
      "✅:I need a vacation\n",
      "❌:I need $8437282828282 and a vacation\n",
      "❌:I need a holiday right now.\n",
      "❌:I need a 1 year long vacation 🤝\n",
      "❌:I need to celebrate my birthday wtf\n",
      "✅:I need a vacation\n",
      "\n",
      "Cluster  36\n",
      "⬛⬛⬛⬛⬛⬛⬛⬛\n",
      "❌:I need a glow up ASAP, I’m withering away here with 30 mins sunlight a day\n",
      "❌:I need NW to score and go for a 2 point and get that idgaf if they lose smh\n",
      "❌:I need coffee everyday now 🥴\n",
      "❌:I need to redo my bdsm test, it’s been a minute!\n",
      "❌:I need the jjk ep to come out and my day will be complete\n",
      "❌:I need to start accepting my 30th is most likely going to be in the midst of this madness.\n",
      "❌:I need my nfl tickets to hit now 😭\n",
      "\n",
      "Cluster  23\n",
      "⬛⬛⬛⬛⬛⬛\n",
      "❌:I need Made In Lagos on vinyl\n",
      "❌:I need someone like him fr 😔❤️\n",
      "❌:I need an assistant lmfao\n",
      "❌:I need to be put in my place\n",
      "❌:I need a new foundation guys what’s the best foundation you’ve ever bought\n",
      "❌:I need to play this ichiban looks like an incredible character man\n",
      "❌:I need a new personal barber 💀\n",
      "\n",
      "Cluster  28\n",
      "⬛⬛⬛⬛⬛\n",
      "✅:I need someone to hear me\n",
      "✅:I need someone to answer a question\n",
      "✅:I need someone to talk to grr\n",
      "❌:I need somebody to vent to seriously\n",
      "❌:I need to listen more.\n",
      "❌:I need answers now.\n",
      "✅:I need someone who listen to me\n",
      "\n",
      "Cluster  40\n",
      "⬛⬛⬛\n",
      "❌:I need a strong ass drink\n",
      "✅:I need a drink\n",
      "✅:I need a drink.\n",
      "❌:I need a drink or two or ten\n",
      "❌:I need a drink rn\n",
      "❌:I need an energy drink\n",
      "❌:I need a drink, damn you ND defense\n",
      "\n",
      "Cluster  21\n",
      "⬛⬛⬛⬛⬛\n",
      "❌:I need someone to talk to rn\n",
      "❌:I need someone rn /srs\n",
      "❌:I need more of vocalist Hobi 😍\n",
      "❌:I need more pictures of kairi\n",
      "❌:I need more anime recommendations 😁‼️\n",
      "❌:I need a half a million rn ntg much 🤣😳\n",
      "❌:I need to watch Jujutsu Kaisen\n",
      "\n",
      "Cluster  27\n",
      "⬛⬛⬛⬛⬛⬛⬛⬛\n",
      "❌:I need williams when will someone leak tjem for me\n",
      "❌:I need a shield smh SIGHS\n",
      "❌:I need to keep my photography pages active\n",
      "❌:I need more CF people on @RancorousMan and @AdmirableMedic\n",
      "❌:I need more moots who aren’t ot5s 🙁\n",
      "❌:I need more once moots were are all of you hiding at &gt;:(\n",
      "❌:I need to update my carrd a whole@lot\n",
      "\n",
      "Cluster  43\n",
      "⬛⬛⬛⬛⬛⬛\n",
      "❌:I need to master my contouring skills, someone give me tips 😭\n",
      "❌:I need therapy\n",
      "❌:I need another therapy session\n",
      "❌:I need To Make A Valid Effort To Make It To The Gym\n",
      "❌:I need to learn German\n",
      "❌:I need a new workout playlist.\n",
      "❌:I need to sign up for nursing school 🥴\n",
      "\n",
      "Cluster  29\n",
      "⬛⬛⬛\n",
      "✅:I need to calm down now\n",
      "❌:I need the time to try and be calmer and happier at least\n",
      "❌:I need peace\n",
      "❌:I need some good rest.\n",
      "❌:I need comfort ok\n",
      "❌:I need some time to try and relax for now at least\n",
      "✅:I need to calm down.\n",
      "\n",
      "Cluster  39\n",
      "⬛⬛⬛⬛⬛⬛⬛⬛\n",
      "✅:I need to stop settling for less\n",
      "✅:I need to stop buying things fgs 😩😩\n",
      "❌:I need to just disappear\n",
      "✅:I need to stop spending too much on food🤦‍♀️\n",
      "❌:I need to stop ordering clothes 😩\n",
      "❌:I need to not procrastinate again\n",
      "✅:I need to stop living my life for everyone else\n",
      "\n",
      "Cluster  3\n",
      "⬛⬛⬛⬛⬛⬛⬛⬛⬛⬛⬛⬛⬛⬛⬛⬛⬛⬛⬛\n",
      "❌:I need a vacay outta state\n",
      "❌:I need to get my carrd updated I’m just lazy\n",
      "❌:I need to stop tweeting on the wrong acc\n",
      "❌:I need to fall back &amp; go ghost\n",
      "❌:I need a break from twitter i'll see y'all later or smth\n",
      "❌:I need to stop playing rivals alone it gets boring fighting bots\n",
      "❌:I need to get on twitter more often.\n",
      "\n",
      "Cluster  18\n",
      "⬛⬛⬛⬛⬛⬛⬛⬛\n",
      "❌:I need another LV bag :/\n",
      "❌:I need 2 more outfits\n",
      "❌:I need them 1s tho been looking for a suitable pair\n",
      "❌:I need sum new jewelry\n",
      "❌:I need new shoes, tetibe rasa takde kasut 🤡\n",
      "❌:I need to buy a planner\n",
      "❌:I need /want another degree under my belt.. 🤷🏽‍♀️\n",
      "\n",
      "Cluster  9\n",
      "⬛⬛⬛⬛⬛⬛⬛⬛\n",
      "❌:I need to be sla- nvm\n",
      "❌:I need to finish schitts creek\n",
      "❌:I need a B tbh\n",
      "❌:I need Rock n’ Jenny’s 🥪\n",
      "❌:I need A GUIDE TO SKZ ASAP\n",
      "❌:I need to find a new theme for my ig, omg\n",
      "❌:I need Krispy Kreme .. with the light on\n",
      "\n",
      "Cluster  12\n",
      "⬛⬛⬛⬛\n",
      "❌:I need somebody to call my own\n",
      "✅:I need to start being nice to myself.\n",
      "❌:I need somebody to call my own\n",
      "❌:I need to focus on myself !\n",
      "❌:I need some time to myself\n",
      "❌:I need to take care of myself.\n",
      "❌:I need to be alone for a while untill \n",
      "i feel myself again\n",
      "\n",
      "Cluster  31\n",
      "⬛⬛⬛⬛\n"
     ]
    },
    {
     "name": "stdout",
     "output_type": "stream",
     "text": [
      "❌:I need someone to look at me the way jackson looks at jessi's tits\n",
      "❌:I need a lil romance in my life\n",
      "❌:I need a girlfriend to prove the guys I'm not gay\n",
      "❌:I need an oomf thatll defend me like a lover\n",
      "❌:I need a lil love n affection\n",
      "❌:I need a better cat camera\n",
      "❌:I need some TLC.\n",
      "\n",
      "Cluster  5\n",
      "⬛⬛⬛⬛⬛⬛⬛⬛\n",
      "❌:I need to cop and no plug wanna be up\n",
      "❌:I need to make some ginger &amp; lemon tea, that’ll put me back together.\n",
      "❌:I need to pour my loves to shotaroo bby\n",
      "✅:I need some weed  Frfr\n",
      "❌:I need robux tiem tof begz mt smom\n",
      "❌:I need something good for dinner &amp; something good to watch .\n",
      "❌:I need a pack of woods and a Ounce of bud at this point\n",
      "\n",
      "Cluster  46\n",
      "⬛⬛⬛⬛\n",
      "✅:I need a break.\n",
      "✅:I need a break\n",
      "✅:I need a break from everything for.\n",
      "✅:I need a break from life\n",
      "✅:I need a break from everything\n",
      "✅:I need a break..\n",
      "❌:I need a break dawg😓\n",
      "\n",
      "Cluster  51\n",
      "⬛⬛⬛⬛⬛\n",
      "❌:I need to be flewed out nowww\n",
      "❌:I need to get tf away\n",
      "❌:I need to slap someone ..\n",
      "❌:I need to jerk off\n",
      "❌:I need to get this off my chest\n",
      "❌:I need my body to get rolled out.\n",
      "❌:I need to fold these clothes and put them away 😩😩😩😩\n",
      "\n",
      "Cluster  1\n",
      "⬛⬛⬛⬛⬛⬛⬛⬛⬛⬛\n",
      "❌:I need 2 wake up of im just gonna fall asleep again 💤\n",
      "❌:I need a few more days to sleep 🥴\n",
      "❌:I need a full 8 hours of sleep 😭\n",
      "❌:I need ti fix my sleep schedule\n",
      "❌:I need 24 hours of sleep\n",
      "❌:I need to fix my sleep schedule lol fml\n",
      "❌:I need MY 24 HOURS OF STRAIGHT SLEEP\n",
      "\n",
      "Cluster  44\n",
      "⬛⬛⬛⬛\n",
      "✅:I need my hair and makeup done\n",
      "✅:I need to get my hair done 😩\n",
      "❌:I need 3tao for my hair and nails😭😭😭\n",
      "❌:I need my hair done😭\n",
      "✅:I need to do my hair\n",
      "✅:I need to re-twist my hair\n",
      "❌:I need to hand my hair done every 4-5 days 😩😂\n",
      "\n",
      "Cluster  10\n",
      "⬛⬛⬛⬛⬛⬛⬛⬛⬛⬛⬛⬛\n",
      "❌:I need all this bs wrapped up by July tbh\n",
      "❌:I need to watch this song live again.\n",
      "❌:I need to watch bangbangcon again soon 🥺\n",
      "❌:I need more dream hand content\n",
      "❌:I need live music in my life again\n",
      "❌:I need a ps5 asap bruh, someone pmo 😕\n",
      "❌:I need to catch up on the mandalorian 😔\n",
      "\n",
      "Cluster  48\n",
      "⬛⬛⬛⬛⬛⬛⬛⬛⬛⬛⬛\n",
      "✅:I need a long hug 🫂\n",
      "✅:I need the longest warmest tightest hug.\n",
      "✅:I need a hug man\n",
      "✅:I need a mf hug\n",
      "❌:I need a hug from my momma.. those are the best hugs\n",
      "✅:I need a big hug rn\n",
      "❌:I need a 10 minute long hug\n",
      "\n",
      "Cluster  6\n",
      "⬛⬛⬛⬛⬛\n",
      "❌:I need one loyal person to exist and i’m quitting social media for good\n",
      "❌:I need a mere, lousy, underrated, understated 20k.\n",
      "❌:I need to stay off that boy page\n",
      "❌:I need to get myself to a psychologist asap, this is not it.\n",
      "❌:I need onewe to cover for the first time by the script\n",
      "❌:I need to stay off of amazon 😂\n",
      "❌:I need to stay off YouTube\n",
      "\n",
      "Cluster  14\n",
      "⬛⬛⬛⬛\n",
      "❌:I need kiss .\n",
      "❌:I need a warm hug and some cuddling though 😩😩\n",
      "❌:I need the warmth of a woman’s touch\n",
      "❌:I need some loving 🥺\n",
      "❌:I need some love\n",
      "❌:I need real love 😔\n",
      "❌:I need SOME LOVEEE\n",
      "\n",
      "Cluster  2\n",
      "⬛⬛⬛⬛⬛⬛⬛⬛\n",
      "❌:I need to get my tattoos and I’ll be happy.\n",
      "❌:I need to start reading actual books again instead of just fic jfjdjdhs\n",
      "❌:I need a logo\n",
      "❌:I need to see jk's full arm tattoo im gonna go crazy\n",
      "❌:I need a sign\n",
      "❌:I need a sign.\n",
      "❌:I need to be covered in tattoos that’s the only way i’m ever gonna be hot\n",
      "\n",
      "Cluster  26\n",
      "⬛⬛⬛⬛⬛⬛⬛\n",
      "❌:I need to roll one\n",
      "❌:I need to start watching kdramas again\n",
      "❌:I need a target run\n",
      "❌:I need gta 6 to come out\n",
      "❌:I need @YG_iKONIC X @OfficialMonstaX X @pledis_17 collab\n",
      "❌:I need a Rolls Royce\n",
      "❌:I need a flickin dab\n",
      "\n",
      "Cluster  20\n",
      "⬛⬛⬛⬛⬛⬛\n",
      "❌:I need a fenty vip membership wtf\n",
      "❌:I need some quiet beach views with my favorite party favors and just vibes.\n",
      "❌:I need dragon, class and other taeyong’s unreleased songs to be released for my mental and physical health🙂\n",
      "❌:I need a lot of support from all of u💗\n",
      "❌:I need to put out a basket with snacks+drinks for our delivery men/women.\n",
      "❌:I need everybody to stand on what they say🥱 dassit\n",
      "❌:I need to play UNO with more people DM me if you want\n",
      "\n",
      "Cluster  25\n",
      "⬛⬛⬛⬛⬛⬛\n",
      "❌:I need a Gatorade or a pedialyte to shake this hangover!\n",
      "❌:I need Sza to do a taylor swift's suprise album dump move\n",
      "❌:I need to convert this to an alt account 🥲\n",
      "❌:I need a full season of @rinasawayama lip syncs on any of the Drag Races please @RuPaulsDragRace or more appropriately @dragraceukbbc\n",
      "❌:I need to say this @thebiscolumbo and @Dipolygabana look alike ehnnn\n",
      "❌:I need more Tbz albums :,)\n",
      "❌:I need an tango ice blast\n",
      "\n",
      "Cluster  55\n",
      "⬛⬛\n",
      "✅:I need a miracle.\n",
      "✅:I need a miracle\n",
      "✅:I need a miracle\n",
      "✅:I need a blessing\n",
      "✅:I need some blessings to come my way.\n",
      "\n",
      "Cluster  53\n",
      "⬛⬛⬛⬛⬛⬛\n",
      "❌:I need to stop being sick on public transport\n",
      "❌:I need to scream somewhere\n",
      "✅:I need to work on my anger\n",
      "✅:I need to let out my frustrations 😭🥴🥵\n",
      "❌:I need to stop clowning myself\n",
      "✅:I need to cry it out at this point\n",
      "❌:I need to ~ scream ~\n",
      "\n",
      "Cluster  38\n",
      "⬛⬛⬛⬛⬛⬛\n",
      "❌:I need to get some wrapping paper\n",
      "❌:I need gift ideas for a long distance relationship fast\n",
      "❌:I need to watch nino's home before sleep\n",
      "❌:I need to talk to whoever decided they were selling Christmas ornaments with no strings to hang them up with 😑\n",
      "❌:I need my coffee and robe to watch my son open his gifts 😂😂😂\n",
      "❌:I need an @GavinDeGraw Christmas album 🎄\n",
      "❌:I need a really short chain for my butterfly charm if anyone wanna get me something for christmas lmao\n",
      "\n",
      "Cluster  22\n",
      "⬛⬛⬛⬛⬛⬛\n",
      "❌:I need to do Christmas shopping 😩\n",
      "❌:I need to do A LOT of shopping for Christmas Day dinner 🤦🏽‍♀️ knowing me I’ll leave it all until 24th\n",
      "❌:I need to finish Christmas shopping this is ridiculous\n",
      "❌:I need to finish my Christmas shopping todayyyy\n",
      "❌:I need to go to the grocery store !\n",
      "❌:I need to go Christmas shopping 🥴\n",
      "❌:I need to go plant shopping soon\n",
      "\n",
      "Cluster  45\n",
      "⬛⬛⬛\n",
      "❌:I need to make another Holdfast video\n",
      "❌:I need some good shows to watch on Netflix\n",
      "❌:I need some good ass weed and a good ass movie to watch\n",
      "❌:I need Netflix recommendations on this lovely day off 😊\n",
      "❌:I need a new Netflix series to watch 😕\n",
      "✅:I need me a good movie to watch\n",
      "✅:I need another movie to watch .\n",
      "\n",
      "Cluster  34\n",
      "⬛⬛⬛\n",
      "❌:I need a sugar daddy through these hard times lmaoo\n",
      "❌:I need a sugar daddy 🦦\n",
      "❌:I need a sugar daddy omg 😩\n",
      "❌:I need a sugar Daddy to pay my bills this month  😪😪\n",
      "❌:I need a sugar daddy\n",
      "❌:I need me a sugar daddy\n",
      "❌:I need a sugar daddy\n",
      "\n",
      "Cluster  50\n",
      "⬛⬛⬛\n",
      "✅:I need a smoke partner.\n",
      "✅:I need to smoke that’s all this mf need to come on with my weed\n",
      "❌:I need to smoke at least once a day 😭\n",
      "❌:I need To Smoke Dawg.\n",
      "❌:I need a tray of puff puff\n",
      "✅:I need a cigarette\n",
      "✅:I need a cigarette.\n",
      "\n",
      "Cluster  41\n",
      "⬛⬛⬛⬛⬛\n",
      "❌:I need edibles 😭😭😭\n",
      "❌:I need to find my grill 😔\n",
      "❌:I need a milkshake or something\n",
      "❌:I need some donuts 🍩\n",
      "✅:I need to find something to eat.\n",
      "❌:I need some cow foot soup 🤯😓\n",
      "❌:I need somebody to point me to the best food spots here in ATL\n",
      "\n",
      "Cluster  54\n",
      "⬛⬛\n",
      "❌:I need a car.\n",
      "❌:I need that car ASAPPPPP😩😂\n",
      "❌:I need a new charger 🥺\n",
      "❌:I need to buy a new car\n",
      "❌:I need my own car\n",
      "❌:I need a new phone\n",
      "\n",
      "Cluster  4\n",
      "⬛⬛⬛⬛⬛⬛\n",
      "❌:I need clarity.\n",
      "❌:I need a crisp water rn\n",
      "❌:I need to know he's safe, pledis relese the goddam statement\n",
      "❌:I need to start protecting my pjm sanity on here\n",
      "❌:I need u here my safe haven\n",
      "❌:I need one good reason to stay\n",
      "❌:I need a vacation full of only fun and zero stress\n",
      "\n",
      "Cluster  37\n",
      "⬛⬛⬛⬛\n",
      "❌:I need these nails to stay on for at least the wedding.\n",
      "❌:I need to be in somebody’s nail salon.\n",
      "❌:I need my hair done now and go to the nail shop that’s it.\n",
      "❌:I need to go and get my beard done.\n",
      "❌:I need my nails done 😩\n",
      "❌:I need to get better at remembering peoples names when they first tell me😂\n",
      "❌:I need to get these wisdom teeth out asap\n",
      "\n",
      "Cluster  49\n",
      "⬛⬛⬛\n",
      "❌:I need my meat SUCKED\n",
      "❌:I need diggs to go off for me🙏🏾 my FF opponent got Julio Jones and he already ruled out\n",
      "❌:I need to get my ears pierced\n",
      "❌:I need me a toxic ass Latina in my life\n",
      "❌:I need my ass eaten lol\n",
      "❌:I need someone to crack my back like a glow stick.\n",
      "❌:I need the piercing place to allow oral piercings for the love of god pleeaaase\n",
      "\n"
     ]
    }
   ],
   "source": [
    "import numpy as np\n",
    "from sklearn.cluster import AgglomerativeClustering\n",
    "## this is from https://github.com/UKPLab/sentence-transformers/blob/master/examples/applications/clustering/agglomerative.py\n",
    "corpus_embeddings = pray.model.encode(special_intentions[:1000])\n",
    "\n",
    "# Normalize the embeddings to unit length\n",
    "corpus_embeddings = corpus_embeddings /  np.linalg.norm(corpus_embeddings, axis=1, keepdims=True)\n",
    "\n",
    "# Perform kmean clustering\n",
    "clustering_model = AgglomerativeClustering(n_clusters=None, distance_threshold=distance_threshold) #, affinity='cosine', linkage='average', distance_threshold=0.4)\n",
    "clustering_model.fit(corpus_embeddings)\n",
    "cluster_assignment = clustering_model.labels_\n",
    "\n",
    "clustered_sentences = {}\n",
    "for sentence_id, cluster_id in enumerate(cluster_assignment):\n",
    "    if cluster_id not in clustered_sentences:\n",
    "        clustered_sentences[cluster_id] = []\n",
    "\n",
    "    clustered_sentences[cluster_id].append(corpus[sentence_id])\n",
    "\n",
    "for i, cluster in clustered_sentences.items():\n",
    "    print(\"Cluster \", i+1)\n",
    "    #print(cluster)\n",
    "    print(\"⬛\"*math.ceil(len(cluster)/3))## bar representing how big cluster is\n",
    "    pairs = sample_and_judge_cluster(cluster)\n",
    "    for p in pairs:\n",
    "        print(p)\n",
    "#     for symbol,si in pairs:\n",
    "#         print \"%s\"\n",
    "    print(\"\")"
   ]
  },
  {
   "cell_type": "markdown",
   "metadata": {},
   "source": [
    "Here I rank special intentions based on their semantic proximity to `n` other special intentions.  I then test whehter or not I am currently praying for them.  If not, I should write a prayer to cover this special intention. \n",
    "\n",
    "(This was fast when I used the [`sent2vec`](https://github.com/epfml/sent2vec) library with (huge) pretrained vectors.  It is *very* slow with [`sbert`](https://github.com/UKPLab/sentence-transformers).)"
   ]
  },
  {
   "cell_type": "markdown",
   "metadata": {},
   "source": [
    "## Get Top for Various Start Grams"
   ]
  },
  {
   "cell_type": "markdown",
   "metadata": {},
   "source": [
    "An even more straightforward way of figuring out what special intentions I should pray for next in order to have the most impact: analyzing the sequences of `n` tokens (*not* overlapping n-grams).  In other words\n",
    "\n",
    ">\"a new job in a new town\"\n",
    "\n",
    "is `[\"a\",\"new\"]` when `n = 2`, `[\"a\",\"new\",\"job\"]` when `n = 3`, etc."
   ]
  },
  {
   "cell_type": "code",
   "execution_count": 19,
   "metadata": {},
   "outputs": [],
   "source": [
    "from nltk import tokenize,FreqDist"
   ]
  },
  {
   "cell_type": "code",
   "execution_count": 20,
   "metadata": {},
   "outputs": [
    {
     "data": {
      "text/plain": [
       "['you']"
      ]
     },
     "execution_count": 20,
     "metadata": {},
     "output_type": "execute_result"
    }
   ],
   "source": [
    "si_tokens = [tokenize.word_tokenize(i) for i in special_intentions_for_processing]\n",
    "si_tokens[0]"
   ]
  },
  {
   "cell_type": "code",
   "execution_count": 21,
   "metadata": {},
   "outputs": [],
   "source": [
    "n = 6"
   ]
  },
  {
   "cell_type": "code",
   "execution_count": 22,
   "metadata": {},
   "outputs": [
    {
     "data": {
      "text/plain": [
       "[('to', 'quit', 'playing', 'and', 'get', 'to'),\n",
       " ('to', 'cry', 'for', 'three', 'good', 'days')]"
      ]
     },
     "execution_count": 22,
     "metadata": {},
     "output_type": "execute_result"
    }
   ],
   "source": [
    "first_n = [tuple(si[:n]) for si in si_tokens]\n",
    "first_n = [si for si in first_n if len(si)==n]\n",
    "first_n[:2]"
   ]
  },
  {
   "cell_type": "code",
   "execution_count": 23,
   "metadata": {},
   "outputs": [
    {
     "data": {
      "text/plain": [
       "[(('someone', 'to', 'stay', 'and', 'never', 'leave'), 8),\n",
       " (('to', 'get', 'it', 'off', 'my', 'chest'), 4),\n",
       " (('somebody', 'who', 'can', 'love', 'me', 'at'), 3),\n",
       " (('somebody', 'to', 'love', 'i-i', 'do', \"n't\"), 3),\n",
       " (('to', 'lower', 'my', 'standards', ',', 'not'), 3),\n",
       " (('a', 'lover', 'and', 'a', 'friend', 'to'), 3),\n",
       " (('to', 'learn', 'how', 'to', 'say', 'no'), 3),\n",
       " (('to', 'get', 'away', 'for', 'a', 'bit'), 3),\n",
       " (('enough', 'of', 'you', 'to', 'dull', 'the'), 3),\n",
       " (('a', 'day', 'in', 'between', 'saturday', 'and'), 3),\n",
       " (('a', 'girlfriend', '..', 'she', 'can', 'feed'), 2),\n",
       " (('to', 'find', 'something', 'to', 'do', 'with'), 2),\n",
       " (('a', 'really', 'good', 'soft', 'massage', 'mostly'), 2),\n",
       " (('all', 'your', 'kisses', 'and', 'a', 'nap'), 2),\n",
       " (('a', 'girl', 'that', '’', 's', 'gon'), 2),\n",
       " (('that', 'one', 'person', 'who', 'will', 'stand'), 2),\n",
       " (('to', 'keep', 'my', 'chin', 'up', ','), 2),\n",
       " (('to', 'take', 'better', 'care', 'of', 'myself'), 2),\n",
       " (('to', 'stop', 'waking', 'up', 'at', '2'), 2),\n",
       " (('someone', 'to', 'braid', 'my', 'hair', 'down'), 2)]"
      ]
     },
     "execution_count": 23,
     "metadata": {},
     "output_type": "execute_result"
    }
   ],
   "source": [
    "FreqDist([si for si in first_n]).most_common(20)"
   ]
  },
  {
   "cell_type": "markdown",
   "metadata": {},
   "source": [
    "***"
   ]
  }
 ],
 "metadata": {
  "kernelspec": {
   "display_name": "Python 3",
   "language": "python",
   "name": "python3"
  },
  "language_info": {
   "codemirror_mode": {
    "name": "ipython",
    "version": 3
   },
   "file_extension": ".py",
   "mimetype": "text/x-python",
   "name": "python",
   "nbconvert_exporter": "python",
   "pygments_lexer": "ipython3",
   "version": "3.8.3"
  }
 },
 "nbformat": 4,
 "nbformat_minor": 4
}
